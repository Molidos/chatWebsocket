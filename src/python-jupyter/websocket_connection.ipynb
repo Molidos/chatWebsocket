{
  "nbformat": 4,
  "nbformat_minor": 0,
  "metadata": {
    "colab": {
      "provenance": []
    },
    "kernelspec": {
      "name": "python3",
      "display_name": "Python 3"
    },
    "language_info": {
      "name": "python"
    }
  },
  "cells": [
    {
      "cell_type": "code",
      "source": [
        "# WebSocket no Google Colab com ngrok\n",
        "\n",
        "# Instalar dependências\n",
        "!pip install pyngrok websockets nest_asyncio\n",
        "\n",
        "import asyncio\n",
        "import websockets\n",
        "import nest_asyncio\n",
        "from pyngrok import ngrok\n",
        "import uuid\n",
        "import json  # Para manipular JSON\n",
        "\n",
        "# Permitir execução de loops assíncronos no Colab\n",
        "nest_asyncio.apply()\n",
        "\n",
        "# Configurar token do ngrok (substitua 'SEU_TOKEN_AQUI' pelo seu token real)\n",
        "ngrok.set_auth_token(\"2uTAJZmY4WE0TdhMSjSP6s2zMQB_3J7fXZCSzNJYMxPcbqqKk\")\n",
        "\n",
        "# Lista de conexões ativas\n",
        "clients = {}\n",
        "\n",
        "# Criar servidor WebSocket\n",
        "async def echo(websocket):\n",
        "    # Atribui um ID único para cada usuário\n",
        "    user_id = str(uuid.uuid4())  # Cria um ID único para cada cliente\n",
        "    print(f\"Novo cliente conectado: {user_id}\")\n",
        "\n",
        "    # Armazena a conexão do usuário\n",
        "    clients[user_id] = websocket\n",
        "\n",
        "    try:\n",
        "        async for values in websocket:\n",
        "            print(values)\n",
        "            if not values.strip():  # Se for vazio ou apenas espaços, ignora\n",
        "                continue\n",
        "\n",
        "            try:\n",
        "                values = json.loads(values)  # Converte a string JSON para dicionário\n",
        "            except json.JSONDecodeError:\n",
        "                print(f\"Erro ao decodificar JSON: {values}\")\n",
        "                continue  # Pula para a próxima iteração\n",
        "\n",
        "            user = values.get(\"user\", user_id)  # Se o user não for enviado, usa o ID gerado\n",
        "            message = values.get(\"message\", \"\")\n",
        "\n",
        "            print(f\"Recebido de {user}: {message}\")\n",
        "\n",
        "            # Envia a mensagem para todos os clientes conectados\n",
        "            for client_id, client in clients.items():\n",
        "                if client != websocket:  # Não envia de volta para quem mandou\n",
        "                    await client.send(json.dumps({\"user\": user, \"message\": message}))\n",
        "    except websockets.exceptions.ConnectionClosed:\n",
        "        print(f\"Cliente {user_id} desconectado\")\n",
        "    finally:\n",
        "        # Remove o cliente da lista de conexões quando ele se desconectar\n",
        "        del clients[user_id]\n",
        "\n",
        "# Iniciar WebSocket na porta 8765\n",
        "PORT = 8765\n",
        "start_server = websockets.serve(echo, \"0.0.0.0\", PORT)\n",
        "\n",
        "# Criar um túnel com ngrok\n",
        "public_url = ngrok.connect(PORT, \"http\")\n",
        "print(f\"URL do WebSocket: {public_url}\")\n",
        "\n",
        "# Rodar servidor WebSocket\n",
        "loop = asyncio.get_event_loop()\n",
        "loop.run_until_complete(start_server)\n",
        "loop.run_forever()\n"
      ],
      "metadata": {
        "colab": {
          "base_uri": "https://localhost:8080/",
          "height": 602
        },
        "id": "7-y0yPtRGeRK",
        "outputId": "981922c4-1e33-45e3-ea6b-2dbe962b9b91"
      },
      "execution_count": 1,
      "outputs": [
        {
          "output_type": "stream",
          "name": "stdout",
          "text": [
            "Collecting pyngrok\n",
            "  Downloading pyngrok-7.2.3-py3-none-any.whl.metadata (8.7 kB)\n",
            "Requirement already satisfied: websockets in /usr/local/lib/python3.11/dist-packages (14.2)\n",
            "Requirement already satisfied: nest_asyncio in /usr/local/lib/python3.11/dist-packages (1.6.0)\n",
            "Requirement already satisfied: PyYAML>=5.1 in /usr/local/lib/python3.11/dist-packages (from pyngrok) (6.0.2)\n",
            "Downloading pyngrok-7.2.3-py3-none-any.whl (23 kB)\n",
            "Installing collected packages: pyngrok\n",
            "Successfully installed pyngrok-7.2.3\n",
            "URL do WebSocket: NgrokTunnel: \"https://8793-34-105-27-142.ngrok-free.app\" -> \"http://localhost:8765\"\n",
            "Novo cliente conectado: 01d5fc35-894b-41ef-8588-deb73db3ad8f\n",
            "Novo cliente conectado: 467a4319-0d21-4223-9379-9cb24eca1fce\n",
            "{\"user\":\"midoria\",\"message\":\"Olá Jony!\"}\n",
            "Recebido de midoria: Olá Jony!\n",
            "{\"user\":\"midoria\",\"message\":\"Olá Midoria!\"}\n",
            "Recebido de midoria: Olá Midoria!\n"
          ]
        },
        {
          "output_type": "error",
          "ename": "KeyboardInterrupt",
          "evalue": "",
          "traceback": [
            "\u001b[0;31m---------------------------------------------------------------------------\u001b[0m",
            "\u001b[0;31mKeyboardInterrupt\u001b[0m                         Traceback (most recent call last)",
            "\u001b[0;32m<ipython-input-1-d4737eb9334e>\u001b[0m in \u001b[0;36m<cell line: 0>\u001b[0;34m()\u001b[0m\n\u001b[1;32m     67\u001b[0m \u001b[0mloop\u001b[0m \u001b[0;34m=\u001b[0m \u001b[0masyncio\u001b[0m\u001b[0;34m.\u001b[0m\u001b[0mget_event_loop\u001b[0m\u001b[0;34m(\u001b[0m\u001b[0;34m)\u001b[0m\u001b[0;34m\u001b[0m\u001b[0;34m\u001b[0m\u001b[0m\n\u001b[1;32m     68\u001b[0m \u001b[0mloop\u001b[0m\u001b[0;34m.\u001b[0m\u001b[0mrun_until_complete\u001b[0m\u001b[0;34m(\u001b[0m\u001b[0mstart_server\u001b[0m\u001b[0;34m)\u001b[0m\u001b[0;34m\u001b[0m\u001b[0;34m\u001b[0m\u001b[0m\n\u001b[0;32m---> 69\u001b[0;31m \u001b[0mloop\u001b[0m\u001b[0;34m.\u001b[0m\u001b[0mrun_forever\u001b[0m\u001b[0;34m(\u001b[0m\u001b[0;34m)\u001b[0m\u001b[0;34m\u001b[0m\u001b[0;34m\u001b[0m\u001b[0m\n\u001b[0m",
            "\u001b[0;32m/usr/local/lib/python3.11/dist-packages/nest_asyncio.py\u001b[0m in \u001b[0;36mrun_forever\u001b[0;34m(self)\u001b[0m\n\u001b[1;32m     79\u001b[0m         \u001b[0;32mwith\u001b[0m \u001b[0mmanage_run\u001b[0m\u001b[0;34m(\u001b[0m\u001b[0mself\u001b[0m\u001b[0;34m)\u001b[0m\u001b[0;34m,\u001b[0m \u001b[0mmanage_asyncgens\u001b[0m\u001b[0;34m(\u001b[0m\u001b[0mself\u001b[0m\u001b[0;34m)\u001b[0m\u001b[0;34m:\u001b[0m\u001b[0;34m\u001b[0m\u001b[0;34m\u001b[0m\u001b[0m\n\u001b[1;32m     80\u001b[0m             \u001b[0;32mwhile\u001b[0m \u001b[0;32mTrue\u001b[0m\u001b[0;34m:\u001b[0m\u001b[0;34m\u001b[0m\u001b[0;34m\u001b[0m\u001b[0m\n\u001b[0;32m---> 81\u001b[0;31m                 \u001b[0mself\u001b[0m\u001b[0;34m.\u001b[0m\u001b[0m_run_once\u001b[0m\u001b[0;34m(\u001b[0m\u001b[0;34m)\u001b[0m\u001b[0;34m\u001b[0m\u001b[0;34m\u001b[0m\u001b[0m\n\u001b[0m\u001b[1;32m     82\u001b[0m                 \u001b[0;32mif\u001b[0m \u001b[0mself\u001b[0m\u001b[0;34m.\u001b[0m\u001b[0m_stopping\u001b[0m\u001b[0;34m:\u001b[0m\u001b[0;34m\u001b[0m\u001b[0;34m\u001b[0m\u001b[0m\n\u001b[1;32m     83\u001b[0m                     \u001b[0;32mbreak\u001b[0m\u001b[0;34m\u001b[0m\u001b[0;34m\u001b[0m\u001b[0m\n",
            "\u001b[0;32m/usr/local/lib/python3.11/dist-packages/nest_asyncio.py\u001b[0m in \u001b[0;36m_run_once\u001b[0;34m(self)\u001b[0m\n\u001b[1;32m    113\u001b[0m                 scheduled[0]._when - self.time(), 0), 86400) if scheduled\n\u001b[1;32m    114\u001b[0m             else None)\n\u001b[0;32m--> 115\u001b[0;31m         \u001b[0mevent_list\u001b[0m \u001b[0;34m=\u001b[0m \u001b[0mself\u001b[0m\u001b[0;34m.\u001b[0m\u001b[0m_selector\u001b[0m\u001b[0;34m.\u001b[0m\u001b[0mselect\u001b[0m\u001b[0;34m(\u001b[0m\u001b[0mtimeout\u001b[0m\u001b[0;34m)\u001b[0m\u001b[0;34m\u001b[0m\u001b[0;34m\u001b[0m\u001b[0m\n\u001b[0m\u001b[1;32m    116\u001b[0m         \u001b[0mself\u001b[0m\u001b[0;34m.\u001b[0m\u001b[0m_process_events\u001b[0m\u001b[0;34m(\u001b[0m\u001b[0mevent_list\u001b[0m\u001b[0;34m)\u001b[0m\u001b[0;34m\u001b[0m\u001b[0;34m\u001b[0m\u001b[0m\n\u001b[1;32m    117\u001b[0m \u001b[0;34m\u001b[0m\u001b[0m\n",
            "\u001b[0;32m/usr/lib/python3.11/selectors.py\u001b[0m in \u001b[0;36mselect\u001b[0;34m(self, timeout)\u001b[0m\n\u001b[1;32m    466\u001b[0m             \u001b[0mready\u001b[0m \u001b[0;34m=\u001b[0m \u001b[0;34m[\u001b[0m\u001b[0;34m]\u001b[0m\u001b[0;34m\u001b[0m\u001b[0;34m\u001b[0m\u001b[0m\n\u001b[1;32m    467\u001b[0m             \u001b[0;32mtry\u001b[0m\u001b[0;34m:\u001b[0m\u001b[0;34m\u001b[0m\u001b[0;34m\u001b[0m\u001b[0m\n\u001b[0;32m--> 468\u001b[0;31m                 \u001b[0mfd_event_list\u001b[0m \u001b[0;34m=\u001b[0m \u001b[0mself\u001b[0m\u001b[0;34m.\u001b[0m\u001b[0m_selector\u001b[0m\u001b[0;34m.\u001b[0m\u001b[0mpoll\u001b[0m\u001b[0;34m(\u001b[0m\u001b[0mtimeout\u001b[0m\u001b[0;34m,\u001b[0m \u001b[0mmax_ev\u001b[0m\u001b[0;34m)\u001b[0m\u001b[0;34m\u001b[0m\u001b[0;34m\u001b[0m\u001b[0m\n\u001b[0m\u001b[1;32m    469\u001b[0m             \u001b[0;32mexcept\u001b[0m \u001b[0mInterruptedError\u001b[0m\u001b[0;34m:\u001b[0m\u001b[0;34m\u001b[0m\u001b[0;34m\u001b[0m\u001b[0m\n\u001b[1;32m    470\u001b[0m                 \u001b[0;32mreturn\u001b[0m \u001b[0mready\u001b[0m\u001b[0;34m\u001b[0m\u001b[0;34m\u001b[0m\u001b[0m\n",
            "\u001b[0;31mKeyboardInterrupt\u001b[0m: "
          ]
        }
      ]
    }
  ]
}