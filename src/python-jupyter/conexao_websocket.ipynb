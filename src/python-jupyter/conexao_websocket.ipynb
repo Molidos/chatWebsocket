{
  "nbformat": 4,
  "nbformat_minor": 0,
  "metadata": {
    "colab": {
      "provenance": []
    },
    "kernelspec": {
      "name": "python3",
      "display_name": "Python 3"
    },
    "language_info": {
      "name": "python"
    }
  },
  "cells": [
    {
      "cell_type": "code",
      "execution_count": null,
      "metadata": {
        "colab": {
          "base_uri": "https://localhost:8080/"
        },
        "id": "fHenVpS5hEsD",
        "outputId": "0c649c34-ec82-450c-ae89-ceaa6dd59bb1"
      },
      "outputs": [
        {
          "output_type": "stream",
          "name": "stdout",
          "text": [
            "Requirement already satisfied: pyngrok in /usr/local/lib/python3.11/dist-packages (7.2.3)\n",
            "Requirement already satisfied: websockets in /usr/local/lib/python3.11/dist-packages (14.2)\n",
            "Requirement already satisfied: nest_asyncio in /usr/local/lib/python3.11/dist-packages (1.6.0)\n",
            "Requirement already satisfied: PyYAML>=5.1 in /usr/local/lib/python3.11/dist-packages (from pyngrok) (6.0.2)\n",
            "URL do WebSocket: NgrokTunnel: \"https://5ce0-34-105-7-71.ngrok-free.app\" -> \"http://localhost:8765\"\n",
            "<websockets.asyncio.server.ServerConnection object at 0x7fadf257df90>\n",
            "Recebido: teste\n",
            "Recebido: Olá Mundoooo!\n",
            "<websockets.asyncio.server.ServerConnection object at 0x7fadf028f410>\n",
            "Recebido: Olá mundooo!\n"
          ]
        }
      ],
      "source": [
        "\"\"\"# WebSocket no Google Colab com ngrok\"\"\"\n",
        "\n",
        "# Instalar dependências\n",
        "!pip install pyngrok websockets nest_asyncio\n",
        "\n",
        "import asyncio\n",
        "import websockets\n",
        "import nest_asyncio\n",
        "from pyngrok import ngrok\n",
        "\n",
        "# Permitir execução de loops assíncronos no Colab\n",
        "nest_asyncio.apply()\n",
        "\n",
        "# Configurar token do ngrok (substitua 'SEU_TOKEN_AQUI' pelo seu token real)\n",
        "ngrok.set_auth_token(\"2uTAJZmY4WE0TdhMSjSP6s2zMQB_3J7fXZCSzNJYMxPcbqqKk\")\n",
        "\n",
        "# Criar servidor WebSocket\n",
        "async def echo(websocket):\n",
        "    print(websocket)\n",
        "    async for message in websocket:\n",
        "        print(f\"Recebido: {message}\")\n",
        "        await websocket.send(f\"Você disse: {message}\")\n",
        "\n",
        "# Iniciar WebSocket na porta 8765\n",
        "PORT = 8765\n",
        "start_server = websockets.serve(echo, \"0.0.0.0\", PORT)\n",
        "\n",
        "# Criar um túnel com ngrok\n",
        "public_url = ngrok.connect(PORT, \"http\")\n",
        "print(f\"URL do WebSocket: {public_url}\")\n",
        "\n",
        "# Rodar servidor WebSocket\n",
        "loop = asyncio.get_event_loop()\n",
        "loop.run_until_complete(start_server)\n",
        "loop.run_forever()\n"
      ]
    },
    {
      "cell_type": "code",
      "source": [
        "import os\n",
        "os.system(\"fuser -k 8765/tcp\")"
      ],
      "metadata": {
        "id": "h2N-SDp1kADH"
      },
      "execution_count": null,
      "outputs": []
    }
  ]
}